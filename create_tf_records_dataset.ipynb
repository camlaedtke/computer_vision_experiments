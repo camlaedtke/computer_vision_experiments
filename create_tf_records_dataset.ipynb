{
 "cells": [
  {
   "cell_type": "markdown",
   "id": "e15812ad",
   "metadata": {},
   "source": [
    "# TF Record Dataset Creation\n",
    "\n",
    "Must run `create_trainId_label_imgs.ipynb` before running this script"
   ]
  },
  {
   "cell_type": "code",
   "execution_count": 1,
   "id": "random-decimal",
   "metadata": {},
   "outputs": [],
   "source": [
    "from __future__ import absolute_import\n",
    "from __future__ import division\n",
    "from __future__ import print_function\n",
    "\n",
    "import hashlib\n",
    "import glob\n",
    "import io\n",
    "import json\n",
    "import os\n",
    "import numpy as np\n",
    "import PIL.Image\n",
    "\n",
    "import tensorflow as tf"
   ]
  },
  {
   "cell_type": "code",
   "execution_count": 2,
   "id": "dressed-headset",
   "metadata": {},
   "outputs": [],
   "source": [
    "def _bytes_feature(values):\n",
    "    return tf.train.Feature(\n",
    "        bytes_list=tf.train.BytesList(value=[values]))\n",
    "\n",
    "\n",
    "def _int64_feature(values):\n",
    "    if not isinstance(values, (tuple, list)):\n",
    "        values = [values]\n",
    "    return tf.train.Feature(int64_list=tf.train.Int64List(value=values))\n",
    "\n",
    "\n",
    "def _open_file(full_path):\n",
    "    with tf.io.gfile.GFile(full_path, 'rb') as fid:\n",
    "        encoded_file = fid.read()\n",
    "    encoded_file_io = io.BytesIO(encoded_file)\n",
    "    image = PIL.Image.open(encoded_file_io)\n",
    "    return image, encoded_file\n",
    "\n",
    "\n",
    "def create_tf_example(image_path, label_path, image_dir='', is_jpeg=False):\n",
    "    file_format = 'jpeg' if is_jpeg else 'png'\n",
    "    full_image_path = os.path.join(image_dir, image_path)\n",
    "    full_label_path = os.path.join(image_dir, label_path)\n",
    "    image, encoded_image = _open_file(full_image_path)\n",
    "    label, encoded_label = _open_file(full_label_path)\n",
    "\n",
    "    height = image.height\n",
    "    width = image.width\n",
    "    if height != label.height or width != label.width:\n",
    "        raise ValueError('Input and annotated images must have same dims.'\n",
    "                        'verify the matching pair for {}'.format(full_image_path))\n",
    "\n",
    "    feature_dict = {\n",
    "        'image/encoded': _bytes_feature(encoded_image),\n",
    "        'image/filename': _bytes_feature(full_image_path.encode('utf8')),\n",
    "        'image/format': _bytes_feature(file_format.encode('utf8')),\n",
    "        'image/height': _int64_feature(height),\n",
    "        'image/width': _int64_feature(width),\n",
    "        'image/channels': _int64_feature(3),\n",
    "        'label/encoded': _bytes_feature(encoded_label),\n",
    "        'label/format':_bytes_feature('png'.encode('utf8')),\n",
    "    }\n",
    "\n",
    "    example = tf.train.Example(features=tf.train.Features(feature=feature_dict))\n",
    "    return example\n",
    "\n",
    "\n",
    "def _create_tf_record(images, labels, output_path):\n",
    "    # writer = tf.python_io.TFRecordWriter(output_path)\n",
    "    writer = tf.io.TFRecordWriter(output_path)\n",
    "    for idx, image in enumerate(images):\n",
    "        if idx % 100 == 0:\n",
    "            # tf.logging.info('On image %d of %d', idx, len(images))\n",
    "            print(\"\\r Writing %s \\ %s \" % (idx, len(images)), end='')\n",
    "        tf_example = create_tf_example(image, labels[idx], is_jpeg=False)\n",
    "        writer.write(tf_example.SerializeToString())\n",
    "    writer.close()"
   ]
  },
  {
   "cell_type": "code",
   "execution_count": 9,
   "id": "associate-straight",
   "metadata": {},
   "outputs": [],
   "source": [
    "#### Train Ids\n",
    "\n",
    "# _DEFAULT_PATTEN = {\n",
    "#     'input': '*_leftImg8bit.png',\n",
    "#     'annot': '*_gtFine_labelTrainIds.png' \n",
    "# }\n",
    "\n",
    "# _DEFAULT_DIR = {\n",
    "#     'image': 'leftImg8bit',\n",
    "#     'label': 'gtFine' \n",
    "# }\n",
    "\n",
    "# _DEFAULT_PATTEN = {\n",
    "#     'input': '*_leftImg8bit.png',\n",
    "#     'annot': '*_gtCoarse_labelTrainIds.png'\n",
    "# }\n",
    "\n",
    "# _DEFAULT_DIR = {\n",
    "#     'image': 'leftImg8bit',\n",
    "#     'label': 'gtCoarse'\n",
    "# }\n",
    "\n",
    "#### Category Ids\n",
    "\n",
    "# _DEFAULT_PATTEN = {\n",
    "#     'input': '*_leftImg8bit.png',\n",
    "#     'annot': '*_gtFine_labelCatIds.png' \n",
    "# }\n",
    "\n",
    "# _DEFAULT_DIR = {\n",
    "#     'image': 'leftImg8bit',\n",
    "#     'label': 'gtFine' \n",
    "# }\n",
    "\n",
    "_DEFAULT_PATTEN = {\n",
    "    'input': '*_leftImg8bit.png',\n",
    "    'annot': '*_gtCoarse_labelCatIds.png'\n",
    "}\n",
    "\n",
    "_DEFAULT_DIR = {\n",
    "    'image': 'leftImg8bit',\n",
    "    'label': 'gtCoarse'\n",
    "}\n",
    "\n",
    "\n",
    "\n",
    "split_type = \"train_extra\"\n",
    "cityscapes_dir = \"cityscapes\"\n",
    "output_dir = \"records\""
   ]
  },
  {
   "cell_type": "code",
   "execution_count": 10,
   "id": "swiss-shade",
   "metadata": {},
   "outputs": [
    {
     "name": "stdout",
     "output_type": "stream",
     "text": [
      "19998 19998\n"
     ]
    }
   ],
   "source": [
    "train_output_path = os.path.join(output_dir,'{}.record'.format(split_type))\n",
    "\n",
    "\n",
    "search_image_files = os.path.join(cityscapes_dir,_DEFAULT_DIR['image'], split_type, '*', _DEFAULT_PATTEN['input'])\n",
    "search_annot_files = os.path.join(cityscapes_dir,_DEFAULT_DIR['label'], split_type, '*', _DEFAULT_PATTEN['annot'])\n",
    "image_filenames = glob.glob(search_image_files)\n",
    "annot_filenames = glob.glob(search_annot_files)\n",
    "print(len(image_filenames), len(annot_filenames))"
   ]
  },
  {
   "cell_type": "code",
   "execution_count": 11,
   "id": "institutional-alcohol",
   "metadata": {},
   "outputs": [
    {
     "name": "stdout",
     "output_type": "stream",
     "text": [
      " Writing 19900 \\ 19998 "
     ]
    }
   ],
   "source": [
    "_create_tf_record(sorted(image_filenames), sorted(annot_filenames), output_path=train_output_path)"
   ]
  },
  {
   "cell_type": "code",
   "execution_count": null,
   "id": "private-gospel",
   "metadata": {},
   "outputs": [],
   "source": []
  }
 ],
 "metadata": {
  "kernelspec": {
   "display_name": "Python 3",
   "language": "python",
   "name": "python3"
  },
  "language_info": {
   "codemirror_mode": {
    "name": "ipython",
    "version": 3
   },
   "file_extension": ".py",
   "mimetype": "text/x-python",
   "name": "python",
   "nbconvert_exporter": "python",
   "pygments_lexer": "ipython3",
   "version": "3.7.7"
  }
 },
 "nbformat": 4,
 "nbformat_minor": 5
}
